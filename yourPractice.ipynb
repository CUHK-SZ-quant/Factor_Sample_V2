{
 "cells": [
  {
   "cell_type": "markdown",
   "source": [
    "以下是你需要构造并回测的因子：\n",
    "1. 每日计算该股票分钟收盘价与分钟成交量的相关系数 ，记为$PV_corr_{t}$\n",
    "2. 对于每日，回溯该股票过去20天的相关系数，分别计算他们的平均值mean与标准差std，分别记为$PV_corr_mean_{t}$与$PV_corr_std_{t}$\n",
    "3. 完成后对$PV_corr_mean$与$PV_corr_std$分别做截面上的标准化，然后相加   \n",
    "\n",
    "D日的因子值可被表示为：\n",
    "\n",
    "$$\n",
    " Factor_{D} = \\frac{PV\\_corr\\_mean - mean(\\{PV\\_corr\\_mean)\\}_{t=D-20}^D)}{std(\\{PV\\_corr\\_mean)\\}_{t=D-20}^D} + \\frac{PV\\_corr\\_std - mean(\\{PV\\_corr\\_std)\\}_{t=D-20}^D)}{std(\\{PV\\_corr\\_std)\\}_{t=D-20}^D}\n",
    "$$\n",
    "\n",
    "因子的预测目标为 $D+1$日的收盘价/$D$日的收盘价   \n",
    "有兴趣的同学也可以尝试以下研报中detrend的方法，即：用相关系数对时间做回归，然后取它的残差作为计算因子的detrend后的相关系数"
   ],
   "metadata": {}
  },
  {
   "cell_type": "markdown",
   "source": [],
   "metadata": {}
  }
 ],
 "metadata": {
  "orig_nbformat": 4,
  "language_info": {
   "name": "python"
  }
 },
 "nbformat": 4,
 "nbformat_minor": 2
}